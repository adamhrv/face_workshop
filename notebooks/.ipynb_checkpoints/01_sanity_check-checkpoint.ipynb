{
 "cells": [
  {
   "cell_type": "markdown",
   "metadata": {},
   "source": [
    "# 01b: Sanity Check\n",
    "\n",
    "Make sure libraries and paths are correctly setup by loading image from local directory"
   ]
  },
  {
   "cell_type": "code",
   "execution_count": 3,
   "metadata": {},
   "outputs": [
    {
     "name": "stdout",
     "output_type": "stream",
     "text": [
      "The autoreload extension is already loaded. To reload it, use:\n",
      "  %reload_ext autoreload\n"
     ]
    }
   ],
   "source": [
    "%load_ext autoreload\n",
    "%autoreload 2\n",
    "\n",
    "# put system imports here\n",
    "import os\n",
    "import sys\n",
    "from os.path import join\n",
    "from glob import glob\n",
    "from pathlib import Path\n",
    "\n",
    "# put pip/conda installed imports here\n",
    "import cv2 as cv\n",
    "import numpy as np\n",
    "import pandas as pd\n",
    "from PIL import Image\n",
    "import matplotlib.pyplot as plt\n",
    "\n",
    "# put local imports here\n",
    "fp_app_root = join(Path(os.getcwd()).parent)\n",
    "sys.path.append(fp_app_root)\n",
    "from app.settings import app_cfg\n",
    "from app.utils import file_utils, draw_utils\n",
    "from app.models.bbox import BBoxNorm"
   ]
  },
  {
   "cell_type": "markdown",
   "metadata": {},
   "source": [
    "## List images"
   ]
  },
  {
   "cell_type": "code",
   "execution_count": 4,
   "metadata": {},
   "outputs": [
    {
     "name": "stdout",
     "output_type": "stream",
     "text": [
      "/media/adam/ah8tb/work/face_workshop/data_store/images\n"
     ]
    }
   ],
   "source": [
    "# check path for images\n",
    "dir_images = app_cfg.DIR_IMAGES\n",
    "print(dir_images)"
   ]
  },
  {
   "cell_type": "code",
   "execution_count": 5,
   "metadata": {},
   "outputs": [
    {
     "name": "stdout",
     "output_type": "stream",
     "text": [
      "10\n"
     ]
    }
   ],
   "source": [
    "# list images\n",
    "filepaths = glob(join(dir_images, '*.jpg'))\n",
    "print(len(filepaths))"
   ]
  },
  {
   "cell_type": "code",
   "execution_count": 6,
   "metadata": {},
   "outputs": [
    {
     "name": "stdout",
     "output_type": "stream",
     "text": [
      "Found 10 images in /media/adam/ah8tb/work/face_workshop/data_store/images\n"
     ]
    }
   ],
   "source": [
    "# use the f-string to print\n",
    "print(f'Found {len(filepaths)} images in {dir_images}')"
   ]
  },
  {
   "cell_type": "markdown",
   "metadata": {},
   "source": [
    "## Load image using OpenCV"
   ]
  },
  {
   "cell_type": "code",
   "execution_count": 7,
   "metadata": {},
   "outputs": [
    {
     "name": "stdout",
     "output_type": "stream",
     "text": [
      "/media/adam/ah8tb/work/face_workshop/data_store/images/obama-biden.jpg\n"
     ]
    }
   ],
   "source": [
    "fp_im = filepaths[0]\n",
    "print(fp_im)"
   ]
  },
  {
   "cell_type": "code",
   "execution_count": 8,
   "metadata": {},
   "outputs": [],
   "source": [
    "im = cv.imread(fp_im)  # use opencv to load image"
   ]
  },
  {
   "cell_type": "code",
   "execution_count": 9,
   "metadata": {},
   "outputs": [
    {
     "name": "stdout",
     "output_type": "stream",
     "text": [
      "(373, 510, 3)\n"
     ]
    }
   ],
   "source": [
    "print(im.shape)  # h,w,number channels"
   ]
  },
  {
   "cell_type": "code",
   "execution_count": 10,
   "metadata": {},
   "outputs": [
    {
     "name": "stdout",
     "output_type": "stream",
     "text": [
      "width 510 height 373\n",
      "width 510 height 373\n"
     ]
    }
   ],
   "source": [
    "# get only the width and height\n",
    "h,w = im.shape[:2]\n",
    "print('width', w, 'height', h)\n",
    "# or\n",
    "w,h = im.shape[:2][::-1]\n",
    "print('width', w, 'height', h)"
   ]
  },
  {
   "cell_type": "markdown",
   "metadata": {},
   "source": [
    "## Load image using Pillow"
   ]
  },
  {
   "cell_type": "code",
   "execution_count": 12,
   "metadata": {},
   "outputs": [],
   "source": [
    "im = Image.open(fp_im)  # use Pillow to load image"
   ]
  },
  {
   "cell_type": "code",
   "execution_count": 14,
   "metadata": {},
   "outputs": [
    {
     "name": "stdout",
     "output_type": "stream",
     "text": [
      "(510, 373)\n"
     ]
    }
   ],
   "source": [
    "print(im.size)  # Pillow returns size as w,h "
   ]
  }
 ],
 "metadata": {
  "kernelspec": {
   "display_name": "Python [conda env:face_workshop] *",
   "language": "python",
   "name": "conda-env-face_workshop-py"
  },
  "language_info": {
   "codemirror_mode": {
    "name": "ipython",
    "version": 3
   },
   "file_extension": ".py",
   "mimetype": "text/x-python",
   "name": "python",
   "nbconvert_exporter": "python",
   "pygments_lexer": "ipython3",
   "version": "3.7.3"
  }
 },
 "nbformat": 4,
 "nbformat_minor": 2
}
