{
 "cells": [
  {
   "cell_type": "markdown",
   "metadata": {},
   "source": [
    "# Welcome"
   ]
  },
  {
   "cell_type": "markdown",
   "metadata": {},
   "source": [
    "# Heading 1\n",
    "\n",
    "## Heading 2\n",
    "\n",
    "### Heading 3\n",
    "\n",
    "- install \n",
    "- item 1\n",
    "- item 2\n",
    "- create a link [name](https://github.com)\n"
   ]
  },
  {
   "cell_type": "markdown",
   "metadata": {},
   "source": [
    "## Step 2\n",
    "\n",
    "- `conda create -n py3_jupyter`\n",
    "- `~/miniconda3/bin/conda create -n py3_jupyter`\n",
    "- \"py3_jupyter\" is your custom project name"
   ]
  },
  {
   "cell_type": "markdown",
   "metadata": {},
   "source": [
    "## Step 3\n",
    "\n",
    "- `source activate py3_jupyter`\n",
    "- `source ~/miniconda3/bin/activate py3_jupyter`\n",
    "- install jupyter `conda install jupyter`\n"
   ]
  },
  {
   "cell_type": "markdown",
   "metadata": {},
   "source": [
    "# Step 4\n",
    "\n",
    "- In Terminal: `git clone https://github.com/adamhrv/computer_vision_workshop`\n",
    "- `cd computer_vision_workshop`\n",
    "- `pip install -r requirements.txt`"
   ]
  },
  {
   "cell_type": "markdown",
   "metadata": {},
   "source": [
    "if you need to install git, first install Brew\n",
    "- Install Brew: `ruby -e \"$(curl -fsSL https://raw.githubusercontent.com/Homebrew/install/master/install)\"`\n",
    "- then install git `brew install git`\n"
   ]
  },
  {
   "cell_type": "markdown",
   "metadata": {},
   "source": [
    "# Install dlib\n",
    "\n",
    "Mac OSX\n",
    "\n",
    "- `brew install cmake`\n",
    "- `brew install boost-python --with-python3 --without-python`\n",
    "\n",
    "Linux\n",
    "\n",
    "- `sudo apt-get install libboost-all-dev`\n"
   ]
  },
  {
   "cell_type": "markdown",
   "metadata": {},
   "source": [
    "# One more thing\n",
    "\n",
    "Download the dlib face profile\n",
    "\n",
    "- `conda install wget`\n",
    "- `cd data_bodega/models/dlib/`\n",
    "- `bash download.sh`\n"
   ]
  },
  {
   "cell_type": "code",
   "execution_count": null,
   "metadata": {},
   "outputs": [],
   "source": []
  }
 ],
 "metadata": {
  "kernelspec": {
   "display_name": "Python 3",
   "language": "python",
   "name": "python3"
  },
  "language_info": {
   "codemirror_mode": {
    "name": "ipython",
    "version": 3
   },
   "file_extension": ".py",
   "mimetype": "text/x-python",
   "name": "python",
   "nbconvert_exporter": "python",
   "pygments_lexer": "ipython3",
   "version": "3.7.3"
  }
 },
 "nbformat": 4,
 "nbformat_minor": 2
}
