{
 "cells": [
  {
   "cell_type": "markdown",
   "metadata": {},
   "source": [
    "# Scratchpad"
   ]
  },
  {
   "cell_type": "code",
   "execution_count": 8,
   "metadata": {},
   "outputs": [
    {
     "name": "stdout",
     "output_type": "stream",
     "text": [
      "The autoreload extension is already loaded. To reload it, use:\n",
      "  %reload_ext autoreload\n"
     ]
    }
   ],
   "source": [
    "%load_ext autoreload\n",
    "%autoreload 2\n",
    "\n",
    "# put system imports here\n",
    "import os\n",
    "import sys\n",
    "from os.path import join\n",
    "from glob import glob\n",
    "from pathlib import Path\n",
    "\n",
    "# put pip/conda installed imports here\n",
    "import numpy as np\n",
    "import pandas as pd\n",
    "\n",
    "# put local imports here\n",
    "fp_app_root = join(Path(os.getcwd()).parent)\n",
    "sys.path.append(fp_app_root)\n",
    "from app.settings import app_cfg\n",
    "from app.utils import file_utils, draw_utils\n",
    "from app.models.bbox import BBoxNorm"
   ]
  },
  {
   "cell_type": "code",
   "execution_count": null,
   "metadata": {},
   "outputs": [],
   "source": []
  }
 ],
 "metadata": {
  "kernelspec": {
   "display_name": "Python [conda env:face_workshop] *",
   "language": "python",
   "name": "conda-env-face_workshop-py"
  },
  "language_info": {
   "codemirror_mode": {
    "name": "ipython",
    "version": 3
   },
   "file_extension": ".py",
   "mimetype": "text/x-python",
   "name": "python",
   "nbconvert_exporter": "python",
   "pygments_lexer": "ipython3",
   "version": "3.7.3"
  }
 },
 "nbformat": 4,
 "nbformat_minor": 2
}
