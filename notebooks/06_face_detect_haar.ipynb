{
 "cells": [
  {
   "cell_type": "markdown",
   "metadata": {},
   "source": [
    "# Face Detection\n",
    "\n",
    "This notebook is used for quick tests"
   ]
  },
  {
   "cell_type": "code",
   "execution_count": null,
   "metadata": {},
   "outputs": [],
   "source": [
    "%load_ext autoreload\n",
    "%autoreload 2\n",
    "\n",
    "# put system imports here\n",
    "import os\n",
    "import sys\n",
    "from os.path import join\n",
    "from glob import glob\n",
    "from pathlib import Path\n",
    "\n",
    "# put pip/conda installed imports here\n",
    "import cv2 as cv\n",
    "import numpy as np\n",
    "import pandas as pd\n",
    "from PIL import Image\n",
    "import matplotlib.pyplot as plt\n",
    "import random\n",
    "\n",
    "# put local imports here\n",
    "fp_app_root = join(Path(os.getcwd()).parent)\n",
    "sys.path.append(fp_app_root)\n",
    "from app.settings import app_cfg\n",
    "from app.utils import file_utils, draw_utils\n",
    "from app.models.bbox import BBoxNorm"
   ]
  },
  {
   "cell_type": "markdown",
   "metadata": {},
   "source": [
    "## Load image"
   ]
  },
  {
   "cell_type": "code",
   "execution_count": null,
   "metadata": {},
   "outputs": [],
   "source": [
    "filepaths = glob(join(app_cfg.DIR_IMAGES, '*.jpg'))\n",
    "fp_im = filepaths[random.randint(0, len(filepaths))]\n",
    "im_bgr = cv.imread(fp_im)"
   ]
  },
  {
   "cell_type": "code",
   "execution_count": null,
   "metadata": {},
   "outputs": [],
   "source": [
    "# Define a function to detect faces using OpenCV's haarcascades\n",
    "def detect_faces_haar(classifier, im, scale_factor=1.1,overlaps=3,min_size=70, max_size=700,flags=0):\n",
    "    \n",
    "  min_size = (min_size, min_size) # minimum face size\n",
    "  max_size = (max_size, max_size) # maximum face size\n",
    "\n",
    "  # Convert to grayscale\n",
    "  im_gray = cv.cvtColor(im, cv.COLOR_BGR2GRAY)\n",
    "\n",
    "  # Run detector\n",
    "  #matches = classifier.detectMultiScale(im_gray, scale_factor, overlaps, flags, min_size, max_size)\n",
    "  matches = classifier.detectMultiScale(im_gray, \n",
    "                                        scaleFactor=scale_factor, \n",
    "                                        minNeighbors=overlaps, \n",
    "                                        minSize=min_size,\n",
    "                                        flags=cv.CASCADE_SCALE_IMAGE)\n",
    "  # By default, OpenCV returns x,y,w,w\n",
    "  # Modify to return x1,y1,x2,y2 (more convenient for drawing)\n",
    "  matches = [ (r[0],r[1],r[0]+r[2],r[1]+r[3]) for r in matches]\n",
    "\n",
    "  return matches"
   ]
  },
  {
   "cell_type": "code",
   "execution_count": null,
   "metadata": {},
   "outputs": [],
   "source": [
    "# Load cascades\n",
    "fp_haarcascade = app_cfg.FP_FRONTALFACE\n",
    "classifier = cv.CascadeClassifier(fp_haarcascade)"
   ]
  },
  {
   "cell_type": "code",
   "execution_count": null,
   "metadata": {},
   "outputs": [],
   "source": [
    "matches = detect_faces_haar(classifier, im_bgr, min_size=40, max_size=200)\n",
    "print(matches)"
   ]
  },
  {
   "cell_type": "markdown",
   "metadata": {},
   "source": [
    "## Draw face"
   ]
  },
  {
   "cell_type": "code",
   "execution_count": null,
   "metadata": {},
   "outputs": [],
   "source": [
    "im_dst = im_bgr.copy()\n",
    "\n",
    "for match in matches:\n",
    "  x,y,w,h = match[0], match[1], match[2] - match[0], match[3] - match[1]\n",
    "  im_dst = cv.rectangle(im_dst, (x,y,w,h), (0,255,0), 4, cv.LINE_AA)\n",
    "  \n",
    "plt.imshow(cv.cvtColor(im_dst, cv.COLOR_BGR2RGB))"
   ]
  },
  {
   "cell_type": "code",
   "execution_count": null,
   "metadata": {},
   "outputs": [],
   "source": [
    "# we can do better\n",
    "\n",
    "im_dst = im_bgr.copy()\n",
    "matches = detect_faces_haar(classifier, im_bgr, min_size=40, overlaps=5)\n",
    "for match in matches:\n",
    "  x,y,w,h = match[0], match[1], match[2] - match[0], match[3] - match[1]\n",
    "  im_dst = cv.rectangle(im_dst, (x,y,w,h), (0,255,0), 4, cv.LINE_AA)\n",
    "  \n",
    "plt.imshow(cv.cvtColor(im_dst, cv.COLOR_BGR2RGB))"
   ]
  },
  {
   "cell_type": "code",
   "execution_count": null,
   "metadata": {},
   "outputs": [],
   "source": [
    "# we can do worse\n",
    "\n",
    "im_dst = im_bgr.copy()\n",
    "matches = detect_faces_haar(classifier, im_bgr, min_size=40, overlaps=0)\n",
    "for match in matches:\n",
    "  x,y,w,h = match[0], match[1], match[2] - match[0], match[3] - match[1]\n",
    "  im_dst = cv.rectangle(im_dst, (x,y,w,h), (0,255,0), 2, cv.LINE_AA)\n",
    "  \n",
    "plt.imshow(cv.cvtColor(im_dst, cv.COLOR_BGR2RGB))"
   ]
  },
  {
   "cell_type": "code",
   "execution_count": null,
   "metadata": {},
   "outputs": [],
   "source": []
  }
 ],
 "metadata": {
  "kernelspec": {
   "display_name": "Python [conda env:face_workshop] *",
   "language": "python",
   "name": "conda-env-face_workshop-py"
  },
  "language_info": {
   "codemirror_mode": {
    "name": "ipython",
    "version": 3
   },
   "file_extension": ".py",
   "mimetype": "text/x-python",
   "name": "python",
   "nbconvert_exporter": "python",
   "pygments_lexer": "ipython3",
   "version": "3.7.4"
  }
 },
 "nbformat": 4,
 "nbformat_minor": 2
}
