{
 "cells": [
  {
   "cell_type": "markdown",
   "metadata": {},
   "source": [
    "# Face recognition InsightFace"
   ]
  },
  {
   "cell_type": "code",
   "execution_count": null,
   "metadata": {},
   "outputs": [],
   "source": [
    "%load_ext autoreload\n",
    "%autoreload 2\n",
    "\n",
    "# put system imports here\n",
    "import os\n",
    "import sys\n",
    "from os.path import join\n",
    "from glob import glob\n",
    "from pathlib import Path\n",
    "import random\n",
    "import time\n",
    "\n",
    "# put pip/conda installed imports here\n",
    "import numpy as np\n",
    "import pandas as pd\n",
    "from tqdm.notebook import tqdm\n",
    "import imutils\n",
    "import cv2 as cv\n",
    "import matplotlib.pyplot as plt\n",
    "\n",
    "# put local imports here\n",
    "fp_app_root = join(Path(os.getcwd()).parent)\n",
    "sys.path.append(fp_app_root)\n",
    "from app.settings import app_cfg\n",
    "from app.utils import file_utils, draw_utils, im_utils\n",
    "from app.models.bbox import BBoxNorm"
   ]
  },
  {
   "cell_type": "code",
   "execution_count": null,
   "metadata": {},
   "outputs": [],
   "source": [
    "os.environ['MXNET_CUDNN_AUTOTUNE_DEFAULT'] = '0'\n",
    "import mxnet\n",
    "import insightface\n",
    "from sklearn.metrics.pairwise import cosine_similarity"
   ]
  },
  {
   "cell_type": "markdown",
   "metadata": {},
   "source": [
    "\n",
    "## Get face image"
   ]
  },
  {
   "cell_type": "code",
   "execution_count": null,
   "metadata": {},
   "outputs": [],
   "source": [
    "# download from https://generated.photos/\n",
    "fp_dir_gan = join(app_cfg.DIR_IMAGES, 'janez_janzas')\n",
    "fps_im = glob(join(fp_dir_gan, '*.jpg'))\n",
    "print(len(fps_im))"
   ]
  },
  {
   "cell_type": "code",
   "execution_count": null,
   "metadata": {},
   "outputs": [],
   "source": [
    "fa = insightface.app.FaceAnalysis()"
   ]
  },
  {
   "cell_type": "code",
   "execution_count": null,
   "metadata": {},
   "outputs": [],
   "source": [
    "fa.prepare(-1)"
   ]
  },
  {
   "cell_type": "code",
   "execution_count": null,
   "metadata": {},
   "outputs": [],
   "source": [
    "fps_vector = []\n",
    "face_vectors = []\n",
    "\n",
    "for fp_im in tqdm(fps_im):\n",
    "  im = cv.imread(fp_im)\n",
    "  im = imutils.resize(im, width=360)\n",
    "  face = fa.get(im)\n",
    "  if len(face):\n",
    "    face = face[0]\n",
    "    face_vectors.append(face.normed_embedding)\n",
    "    fps_vector.append(fp_im)"
   ]
  },
  {
   "cell_type": "markdown",
   "metadata": {},
   "source": [
    "## Query Image"
   ]
  },
  {
   "cell_type": "code",
   "execution_count": null,
   "metadata": {},
   "outputs": [],
   "source": [
    "fp_im = join(app_cfg.DIR_IMAGES, 'Janez_Jansa_id-card_01.jpg')\n",
    "im_query = cv.imread(fp_im)\n",
    "face_query = fa.get(im_query)[0]\n",
    "vector_query = face_query.normed_embedding"
   ]
  },
  {
   "cell_type": "code",
   "execution_count": null,
   "metadata": {},
   "outputs": [],
   "source": [
    "n_results = 3\n",
    "st = time.time()\n",
    "sim = cosine_similarity([vector_query], face_vectors)[0]\n",
    "print(time.time() - st)"
   ]
  },
  {
   "cell_type": "code",
   "execution_count": null,
   "metadata": {},
   "outputs": [],
   "source": [
    "match_idxs = np.argpartition(sim, -n_results)[-n_results:]\n",
    "match_idxs = match_idxs[np.argsort(sim[match_idxs])]\n",
    "match_idxs = match_idxs[::-1]\n",
    "\n",
    "print(match_idxs)\n",
    "for i in match_idxs:\n",
    "  if sim[i] > 0.5:\n",
    "    print(f'Found match! --> {Path(fps_vector[i]).name}')\n",
    "  print(sim[i])"
   ]
  },
  {
   "cell_type": "code",
   "execution_count": null,
   "metadata": {},
   "outputs": [],
   "source": [
    "#ims_match = [fp_im_hanks]\n",
    "ims_match = [im_query] + [cv.imread(fps_vector[i]) for i in match_idxs]"
   ]
  },
  {
   "cell_type": "code",
   "execution_count": null,
   "metadata": {},
   "outputs": [],
   "source": [
    "montages = imutils.build_montages(ims_match, (400,400), (4,2))"
   ]
  },
  {
   "cell_type": "code",
   "execution_count": null,
   "metadata": {},
   "outputs": [],
   "source": [
    "plt.figure(figsize=(12,6))\n",
    "plt.imshow(cv.cvtColor(montages[0], cv.COLOR_BGR2RGB))"
   ]
  },
  {
   "cell_type": "code",
   "execution_count": null,
   "metadata": {},
   "outputs": [],
   "source": []
  }
 ],
 "metadata": {
  "kernelspec": {
   "display_name": "Python [conda env:face_workshop] *",
   "language": "python",
   "name": "conda-env-face_workshop-py"
  },
  "language_info": {
   "codemirror_mode": {
    "name": "ipython",
    "version": 3
   },
   "file_extension": ".py",
   "mimetype": "text/x-python",
   "name": "python",
   "nbconvert_exporter": "python",
   "pygments_lexer": "ipython3",
   "version": "3.7.4"
  }
 },
 "nbformat": 4,
 "nbformat_minor": 2
}
